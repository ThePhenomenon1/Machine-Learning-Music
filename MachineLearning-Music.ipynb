{
 "cells": [
  {
   "cell_type": "code",
   "execution_count": null,
   "id": "7ff0b9f7",
   "metadata": {},
   "outputs": [],
   "source": [
    "# A Real Problem: Music Recommender  \n",
    "\n",
    "# Preparing the data \n",
    "# When we train a model, we give it 2 data sets, the input set (capital X); and the output set(y). \n",
    "# The output set contains the predictions. \n",
    "\n",
    "# Learning And Predicting\n",
    "# There are many algorithm options, each with it's pros and cons. For this Music Algorithm, we choose simple decision tree.\n",
    "\n",
    "# Calculating the Accuracy \n",
    "# Data must be split into 2 Training/Testing Sets. 70%-80%/30%-20% split.\n",
    "# The more data fed to the model, and the cleaner the data, the more accurate the result\n",
    "# Some machine learning problems require thousands, even millions of samples to train a model. \n",
    "# The more complex the problem, the more data we need. "
   ]
  },
  {
   "cell_type": "code",
   "execution_count": null,
   "id": "27d9bce7",
   "metadata": {},
   "outputs": [],
   "source": [
    "# ML High-Level Project Steps\n",
    "\n",
    "\n",
    "# 1. Import data set \n",
    "# 2. Create a model \n",
    "# 3. Train model \n",
    "# 4. Ask it to make predictions \n"
   ]
  },
  {
   "cell_type": "code",
   "execution_count": null,
   "id": "24f59701",
   "metadata": {},
   "outputs": [],
   "source": [
    "\n",
    "import pandas as pd\n",
    "from sklearn.tree import DecisionTreeClassifier\n",
    "from sklearn.model_selection import train_test_split\n",
    "from sklearn.metrics import accuracy_score\n",
    "\n",
    "music_data = pd.read_csv('music.csv')\n",
    "X = music_data.drop(columns=['genre'])\n",
    "y = music_data['genre']\n",
    "X_train, X_test, y_train, y_test = train_test_split(X, y, test_size=0.2)\n",
    "\n",
    "\n",
    "model = DecisionTreeClassifier()\n",
    "model.fit(X_train, y_train)\n",
    "predictions = model.predict(X_test)\n",
    "predictions\n",
    "\n",
    "score = accuracy_score(y_test, predictions)\n",
    "score"
   ]
  },
  {
   "cell_type": "code",
   "execution_count": null,
   "id": "fc9ec753",
   "metadata": {},
   "outputs": [],
   "source": [
    "# Model Persistence\n",
    "\n",
    "# Training a model for a massive data set might take seconds, minutes or hours. Hence the need for model persistence.\n",
    "\n",
    "import pandas as pd\n",
    "from sklearn.tree import DecisionTreeClassifier\n",
    "import joblib\n",
    "\n",
    "music_data = pd.read_csv('music.csv')\n",
    "X = music_data.drop(columns=['genre'])\n",
    "y = music_data['genre']\n",
    "\n",
    "model = DecisionTreeClassifier()\n",
    "model.fit(X, y)\n",
    "\n",
    "model = joblib.load('music-recommender.joblib')\n",
    "predictions = model.predict([[21, 1]])\n",
    "predictions "
   ]
  },
  {
   "cell_type": "code",
   "execution_count": null,
   "id": "f86a1984",
   "metadata": {},
   "outputs": [],
   "source": []
  }
 ],
 "metadata": {
  "kernelspec": {
   "display_name": "Python 3 (ipykernel)",
   "language": "python",
   "name": "python3"
  },
  "language_info": {
   "codemirror_mode": {
    "name": "ipython",
    "version": 3
   },
   "file_extension": ".py",
   "mimetype": "text/x-python",
   "name": "python",
   "nbconvert_exporter": "python",
   "pygments_lexer": "ipython3",
   "version": "3.9.7"
  }
 },
 "nbformat": 4,
 "nbformat_minor": 5
}
